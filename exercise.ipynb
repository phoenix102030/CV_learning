{
 "cells": [
  {
   "cell_type": "code",
   "execution_count": 5,
   "metadata": {},
   "outputs": [
    {
     "data": {
      "text/plain": [
       "[3, 2, 3]"
      ]
     },
     "execution_count": 5,
     "metadata": {},
     "output_type": "execute_result"
    }
   ],
   "source": [
    "a=[3,2,3]\n",
    "b=a[:]\n",
    "b"
   ]
  },
  {
   "cell_type": "code",
   "execution_count": 6,
   "metadata": {},
   "outputs": [
    {
     "name": "stdout",
     "output_type": "stream",
     "text": [
      "2024-09-17- 20:21:27\n"
     ]
    }
   ],
   "source": [
    "import time\n",
    "print(time.strftime('%Y-%m-%d- %H:%M:%S', time.localtime(time.time())))"
   ]
  },
  {
   "cell_type": "code",
   "execution_count": 7,
   "metadata": {},
   "outputs": [
    {
     "name": "stdout",
     "output_type": "stream",
     "text": [
      "153\n",
      "370\n",
      "371\n",
      "407\n"
     ]
    }
   ],
   "source": [
    "for x in range(1, 10):\n",
    "    for y in range(0,10):\n",
    "        for z in range(0, 10):\n",
    "            num = x**3 + y**3 + z**3\n",
    "            if num == x * 100 + y * 10 + z:\n",
    "                print(num)"
   ]
  },
  {
   "cell_type": "code",
   "execution_count": 10,
   "metadata": {},
   "outputs": [
    {
     "name": "stdout",
     "output_type": "stream",
     "text": [
      "12 8 1 0\n"
     ]
    }
   ],
   "source": [
    "s = 'fhdjsaflhkda 64184124'\n",
    "letters = 0\n",
    "digit = 0\n",
    "space = 0\n",
    "other = 0\n",
    "for c in s:\n",
    "    if c.isalpha():\n",
    "        letters+=1\n",
    "    elif c.isspace():\n",
    "        space+=1\n",
    "    elif c.isdigit():\n",
    "        digit+=1\n",
    "    else:\n",
    "        other+=1\n",
    "\n",
    "print(letters, digit, space, other)\n"
   ]
  },
  {
   "cell_type": "code",
   "execution_count": 19,
   "metadata": {},
   "outputs": [
    {
     "data": {
      "text/plain": [
       "120"
      ]
     },
     "execution_count": 19,
     "metadata": {},
     "output_type": "execute_result"
    }
   ],
   "source": [
    "def digui(j):\n",
    "    sum_value = 0\n",
    "    if j == 0:\n",
    "        sum_value=1\n",
    "    else:\n",
    "        sum_value=j*digui(j-1)\n",
    "    return sum_value\n",
    "\n",
    "digui(5)"
   ]
  },
  {
   "cell_type": "code",
   "execution_count": 23,
   "metadata": {},
   "outputs": [
    {
     "name": "stdout",
     "output_type": "stream",
     "text": [
      "a\n",
      "o\n",
      "h\n",
      "i\n",
      "s\n"
     ]
    }
   ],
   "source": [
    "def output(s, l):\n",
    "    if l == 0:\n",
    "        return\n",
    "    print(s[l-1])\n",
    "    output(s,l-1)\n",
    "\n",
    "s='sihoa'\n",
    "l=len(s)\n",
    "output(s,l)\n",
    "\n"
   ]
  },
  {
   "cell_type": "code",
   "execution_count": 24,
   "metadata": {},
   "outputs": [
    {
     "data": {
      "text/plain": [
       "'si,tong,yang'"
      ]
     },
     "execution_count": 24,
     "metadata": {},
     "output_type": "execute_result"
    }
   ],
   "source": [
    "L = ['si', 'tong', 'yang']\n",
    "s = ','.join(str(n) for n in L)\n",
    "s"
   ]
  },
  {
   "cell_type": "code",
   "execution_count": 32,
   "metadata": {},
   "outputs": [
    {
     "name": "stdout",
     "output_type": "stream",
     "text": [
      "[5, 6, 7, 8, 9, 1]\n",
      "[1, 9, 8, 7, 6, 5]\n"
     ]
    }
   ],
   "source": [
    "a = [5,6,7,8,9,1]\n",
    "b = []\n",
    "n = len(a)\n",
    "print(a)\n",
    "for i in range(n):\n",
    "    b.append(a[-i-1]) \n",
    "print(b)"
   ]
  },
  {
   "cell_type": "code",
   "execution_count": 36,
   "metadata": {},
   "outputs": [
    {
     "data": {
      "text/plain": [
       "[[13, 67, 37], [38, 70, 29], [94, 53, 106]]"
      ]
     },
     "execution_count": 36,
     "metadata": {},
     "output_type": "execute_result"
    }
   ],
   "source": [
    "matrix_1 = [[1,2,3],\n",
    "            [4,5,6],\n",
    "            [7,8,9]]\n",
    "\n",
    "matrix_2 = [[12,65,34],\n",
    "            [34,65,23],\n",
    "            [87,45,97]]\n",
    "\n",
    "result = [[0,0,0],\n",
    "          [0,0,0],\n",
    "          [0,0,0]]\n",
    "\n",
    "for i in range(3):\n",
    "    for j in range(3):\n",
    "        result[i][j] = matrix_1[i][j] + matrix_2[i][j]\n",
    "\n",
    "result"
   ]
  },
  {
   "cell_type": "code",
   "execution_count": 37,
   "metadata": {},
   "outputs": [
    {
     "name": "stdout",
     "output_type": "stream",
     "text": [
      "7\n"
     ]
    }
   ],
   "source": [
    "sum_velue = lambda x,y:x+y\n",
    "print(sum_velue(3,4))"
   ]
  },
  {
   "cell_type": "code",
   "execution_count": null,
   "metadata": {},
   "outputs": [],
   "source": []
  }
 ],
 "metadata": {
  "kernelspec": {
   "display_name": "Python 3",
   "language": "python",
   "name": "python3"
  },
  "language_info": {
   "codemirror_mode": {
    "name": "ipython",
    "version": 3
   },
   "file_extension": ".py",
   "mimetype": "text/x-python",
   "name": "python",
   "nbconvert_exporter": "python",
   "pygments_lexer": "ipython3",
   "version": "3.10.12"
  }
 },
 "nbformat": 4,
 "nbformat_minor": 2
}
